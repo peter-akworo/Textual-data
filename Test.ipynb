{
 "cells": [
  {
   "cell_type": "code",
   "execution_count": 1,
   "metadata": {},
   "outputs": [
    {
     "data": {
      "text/plain": [
       "['Requirement already satisfied: ipyleaflet in c:\\\\users\\\\me\\\\anaconda3\\\\lib\\\\site-packages (0.9.1)',\n",
       " 'Requirement already satisfied: traittypes<3,>=0.2.1 in c:\\\\users\\\\me\\\\anaconda3\\\\lib\\\\site-packages (from ipyleaflet) (0.2.1)',\n",
       " 'Requirement already satisfied: xarray<0.10.8,>=0.10 in c:\\\\users\\\\me\\\\anaconda3\\\\lib\\\\site-packages (from ipyleaflet) (0.10.7)',\n",
       " 'Requirement already satisfied: ipywidgets<8,>=7.0.0 in c:\\\\users\\\\me\\\\anaconda3\\\\lib\\\\site-packages (from ipyleaflet) (7.4.2)',\n",
       " 'Requirement already satisfied: traitlets>=4.2.2 in c:\\\\users\\\\me\\\\anaconda3\\\\lib\\\\site-packages (from traittypes<3,>=0.2.1->ipyleaflet) (4.3.2)',\n",
       " 'Requirement already satisfied: numpy>=1.11 in c:\\\\users\\\\me\\\\anaconda3\\\\lib\\\\site-packages (from xarray<0.10.8,>=0.10->ipyleaflet) (1.15.3)',\n",
       " 'Requirement already satisfied: pandas>=0.18.0 in c:\\\\users\\\\me\\\\anaconda3\\\\lib\\\\site-packages (from xarray<0.10.8,>=0.10->ipyleaflet) (0.23.4)',\n",
       " 'Requirement already satisfied: ipykernel>=4.5.1 in c:\\\\users\\\\me\\\\anaconda3\\\\lib\\\\site-packages (from ipywidgets<8,>=7.0.0->ipyleaflet) (5.1.0)',\n",
       " 'Requirement already satisfied: nbformat>=4.2.0 in c:\\\\users\\\\me\\\\anaconda3\\\\lib\\\\site-packages (from ipywidgets<8,>=7.0.0->ipyleaflet) (4.4.0)',\n",
       " 'Requirement already satisfied: widgetsnbextension~=3.4.0 in c:\\\\users\\\\me\\\\anaconda3\\\\lib\\\\site-packages (from ipywidgets<8,>=7.0.0->ipyleaflet) (3.4.2)',\n",
       " 'Requirement already satisfied: ipython>=4.0.0; python_version >= \"3.3\" in c:\\\\users\\\\me\\\\anaconda3\\\\lib\\\\site-packages (from ipywidgets<8,>=7.0.0->ipyleaflet) (7.1.1)',\n",
       " 'Requirement already satisfied: decorator in c:\\\\users\\\\me\\\\anaconda3\\\\lib\\\\site-packages (from traitlets>=4.2.2->traittypes<3,>=0.2.1->ipyleaflet) (4.3.0)',\n",
       " 'Requirement already satisfied: six in c:\\\\users\\\\me\\\\anaconda3\\\\lib\\\\site-packages (from traitlets>=4.2.2->traittypes<3,>=0.2.1->ipyleaflet) (1.11.0)',\n",
       " 'Requirement already satisfied: ipython-genutils in c:\\\\users\\\\me\\\\anaconda3\\\\lib\\\\site-packages (from traitlets>=4.2.2->traittypes<3,>=0.2.1->ipyleaflet) (0.2.0)',\n",
       " 'Requirement already satisfied: python-dateutil>=2.5.0 in c:\\\\users\\\\me\\\\anaconda3\\\\lib\\\\site-packages (from pandas>=0.18.0->xarray<0.10.8,>=0.10->ipyleaflet) (2.7.3)',\n",
       " 'Requirement already satisfied: pytz>=2011k in c:\\\\users\\\\me\\\\anaconda3\\\\lib\\\\site-packages (from pandas>=0.18.0->xarray<0.10.8,>=0.10->ipyleaflet) (2018.5)',\n",
       " 'Requirement already satisfied: tornado>=4.2 in c:\\\\users\\\\me\\\\anaconda3\\\\lib\\\\site-packages (from ipykernel>=4.5.1->ipywidgets<8,>=7.0.0->ipyleaflet) (5.1.1)',\n",
       " 'Requirement already satisfied: jupyter-client in c:\\\\users\\\\me\\\\anaconda3\\\\lib\\\\site-packages (from ipykernel>=4.5.1->ipywidgets<8,>=7.0.0->ipyleaflet) (5.2.3)',\n",
       " 'Requirement already satisfied: jsonschema!=2.5.0,>=2.4 in c:\\\\users\\\\me\\\\anaconda3\\\\lib\\\\site-packages (from nbformat>=4.2.0->ipywidgets<8,>=7.0.0->ipyleaflet) (2.6.0)',\n",
       " 'Requirement already satisfied: jupyter-core in c:\\\\users\\\\me\\\\anaconda3\\\\lib\\\\site-packages (from nbformat>=4.2.0->ipywidgets<8,>=7.0.0->ipyleaflet) (4.4.0)',\n",
       " 'Requirement already satisfied: notebook>=4.4.1 in c:\\\\users\\\\me\\\\anaconda3\\\\lib\\\\site-packages (from widgetsnbextension~=3.4.0->ipywidgets<8,>=7.0.0->ipyleaflet) (5.7.0)',\n",
       " 'Requirement already satisfied: prompt-toolkit<2.1.0,>=2.0.0 in c:\\\\users\\\\me\\\\anaconda3\\\\lib\\\\site-packages (from ipython>=4.0.0; python_version >= \"3.3\"->ipywidgets<8,>=7.0.0->ipyleaflet) (2.0.7)',\n",
       " 'Requirement already satisfied: setuptools>=18.5 in c:\\\\users\\\\me\\\\anaconda3\\\\lib\\\\site-packages (from ipython>=4.0.0; python_version >= \"3.3\"->ipywidgets<8,>=7.0.0->ipyleaflet) (40.4.3)',\n",
       " 'Requirement already satisfied: jedi>=0.10 in c:\\\\users\\\\me\\\\anaconda3\\\\lib\\\\site-packages (from ipython>=4.0.0; python_version >= \"3.3\"->ipywidgets<8,>=7.0.0->ipyleaflet) (0.13.1)',\n",
       " 'Requirement already satisfied: backcall in c:\\\\users\\\\me\\\\anaconda3\\\\lib\\\\site-packages (from ipython>=4.0.0; python_version >= \"3.3\"->ipywidgets<8,>=7.0.0->ipyleaflet) (0.1.0)',\n",
       " 'Requirement already satisfied: colorama; sys_platform == \"win32\" in c:\\\\users\\\\me\\\\anaconda3\\\\lib\\\\site-packages (from ipython>=4.0.0; python_version >= \"3.3\"->ipywidgets<8,>=7.0.0->ipyleaflet) (0.4.0)',\n",
       " 'Requirement already satisfied: pickleshare in c:\\\\users\\\\me\\\\anaconda3\\\\lib\\\\site-packages (from ipython>=4.0.0; python_version >= \"3.3\"->ipywidgets<8,>=7.0.0->ipyleaflet) (0.7.5)',\n",
       " 'Requirement already satisfied: pygments in c:\\\\users\\\\me\\\\anaconda3\\\\lib\\\\site-packages (from ipython>=4.0.0; python_version >= \"3.3\"->ipywidgets<8,>=7.0.0->ipyleaflet) (2.2.0)',\n",
       " 'Requirement already satisfied: pyzmq>=13 in c:\\\\users\\\\me\\\\anaconda3\\\\lib\\\\site-packages (from jupyter-client->ipykernel>=4.5.1->ipywidgets<8,>=7.0.0->ipyleaflet) (17.1.2)',\n",
       " 'Requirement already satisfied: jinja2 in c:\\\\users\\\\me\\\\anaconda3\\\\lib\\\\site-packages (from notebook>=4.4.1->widgetsnbextension~=3.4.0->ipywidgets<8,>=7.0.0->ipyleaflet) (2.10)',\n",
       " 'Requirement already satisfied: Send2Trash in c:\\\\users\\\\me\\\\anaconda3\\\\lib\\\\site-packages (from notebook>=4.4.1->widgetsnbextension~=3.4.0->ipywidgets<8,>=7.0.0->ipyleaflet) (1.5.0)',\n",
       " 'Requirement already satisfied: nbconvert in c:\\\\users\\\\me\\\\anaconda3\\\\lib\\\\site-packages (from notebook>=4.4.1->widgetsnbextension~=3.4.0->ipywidgets<8,>=7.0.0->ipyleaflet) (5.4.0)',\n",
       " 'No metadata found in c:\\\\users\\\\me\\\\anaconda3\\\\lib\\\\site-packages',\n",
       " 'Requirement already satisfied: prometheus-client in c:\\\\users\\\\me\\\\anaconda3\\\\lib\\\\site-packages (from notebook>=4.4.1->widgetsnbextension~=3.4.0->ipywidgets<8,>=7.0.0->ipyleaflet) (0.4.2)',\n",
       " 'Requirement already satisfied: terminado>=0.8.1 in c:\\\\users\\\\me\\\\anaconda3\\\\lib\\\\site-packages (from notebook>=4.4.1->widgetsnbextension~=3.4.0->ipywidgets<8,>=7.0.0->ipyleaflet) (0.8.1)',\n",
       " 'Requirement already satisfied: wcwidth in c:\\\\users\\\\me\\\\anaconda3\\\\lib\\\\site-packages (from prompt-toolkit<2.1.0,>=2.0.0->ipython>=4.0.0; python_version >= \"3.3\"->ipywidgets<8,>=7.0.0->ipyleaflet) (0.1.7)',\n",
       " 'Requirement already satisfied: parso>=0.3.0 in c:\\\\users\\\\me\\\\anaconda3\\\\lib\\\\site-packages (from jedi>=0.10->ipython>=4.0.0; python_version >= \"3.3\"->ipywidgets<8,>=7.0.0->ipyleaflet) (0.3.1)',\n",
       " 'Requirement already satisfied: MarkupSafe>=0.23 in c:\\\\users\\\\me\\\\anaconda3\\\\lib\\\\site-packages (from jinja2->notebook>=4.4.1->widgetsnbextension~=3.4.0->ipywidgets<8,>=7.0.0->ipyleaflet) (1.0)']"
      ]
     },
     "execution_count": 1,
     "metadata": {},
     "output_type": "execute_result"
    }
   ],
   "source": [
    "%%!\n",
    "pip install ipyleaflet"
   ]
  },
  {
   "cell_type": "code",
   "execution_count": 2,
   "metadata": {},
   "outputs": [],
   "source": [
    "%matplotlib inline"
   ]
  },
  {
   "cell_type": "code",
   "execution_count": 3,
   "metadata": {},
   "outputs": [],
   "source": [
    "import matplotlib.pyplot as plt"
   ]
  },
  {
   "cell_type": "code",
   "execution_count": 4,
   "metadata": {},
   "outputs": [
    {
     "data": {
      "application/vnd.jupyter.widget-view+json": {
       "model_id": "7bcb82beb93242b48e5dbf1220936cab",
       "version_major": 2,
       "version_minor": 0
      },
      "text/plain": [
       "Map(basemap={'url': 'https://{s}.tile.openstreetmap.org/{z}/{x}/{y}.png', 'max_zoom': 19, 'attribution': 'Map …"
      ]
     },
     "metadata": {},
     "output_type": "display_data"
    }
   ],
   "source": [
    "#Kenya tilelayer\n",
    "from ipyleaflet import Map,TileLayer\n",
    "tile_layer=TileLayer(url='https://openmaptiles.com/downloads/tileset/osm/africa/kenya/')\n",
    "m = Map(center=(0.1768696,37.9083264), zoom=10)\n",
    "m.add_layer(tile_layer)\n",
    "m"
   ]
  },
  {
   "cell_type": "code",
   "execution_count": 5,
   "metadata": {},
   "outputs": [],
   "source": [
    "plt.show()"
   ]
  },
  {
   "cell_type": "code",
   "execution_count": null,
   "metadata": {},
   "outputs": [],
   "source": []
  }
 ],
 "metadata": {
  "kernelspec": {
   "display_name": "Python 3",
   "language": "python",
   "name": "python3"
  },
  "language_info": {
   "codemirror_mode": {
    "name": "ipython",
    "version": 3
   },
   "file_extension": ".py",
   "mimetype": "text/x-python",
   "name": "python",
   "nbconvert_exporter": "python",
   "pygments_lexer": "ipython3",
   "version": "3.7.1"
  }
 },
 "nbformat": 4,
 "nbformat_minor": 2
}
